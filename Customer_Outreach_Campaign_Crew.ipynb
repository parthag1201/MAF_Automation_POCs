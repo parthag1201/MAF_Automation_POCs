{
  "nbformat": 4,
  "nbformat_minor": 0,
  "metadata": {
    "colab": {
      "provenance": [],
      "authorship_tag": "ABX9TyNIalqiSiOlmPRGYeBdNChT",
      "include_colab_link": true
    },
    "kernelspec": {
      "name": "python3",
      "display_name": "Python 3"
    },
    "language_info": {
      "name": "python"
    }
  },
  "cells": [
    {
      "cell_type": "markdown",
      "metadata": {
        "id": "view-in-github",
        "colab_type": "text"
      },
      "source": [
        "<a href=\"https://colab.research.google.com/github/parthag1201/MAF_Automation_POCs/blob/main/Customer_Outreach_Campaign_Crew.ipynb\" target=\"_parent\"><img src=\"https://colab.research.google.com/assets/colab-badge.svg\" alt=\"Open In Colab\"/></a>"
      ]
    },
    {
      "cell_type": "markdown",
      "source": [
        "# Env and Agent setup"
      ],
      "metadata": {
        "id": "xAQetr97i6eC"
      }
    },
    {
      "cell_type": "code",
      "source": [
        "!pip install crewai==0.28.8 crewai_tools==0.1.6 langchain_community==0.0.29 langchain_google_genai"
      ],
      "metadata": {
        "collapsed": true,
        "id": "iemOS5KPavNs"
      },
      "execution_count": null,
      "outputs": []
    },
    {
      "cell_type": "code",
      "source": [
        "import google.generativeai as genai\n",
        "from langchain_google_genai import ChatGoogleGenerativeAI, GoogleGenerativeAIEmbeddings"
      ],
      "metadata": {
        "id": "K393BrQ9a3Ut"
      },
      "execution_count": 2,
      "outputs": []
    },
    {
      "cell_type": "code",
      "execution_count": 3,
      "metadata": {
        "id": "yjsUDvZ3aTH4"
      },
      "outputs": [],
      "source": [
        "# Warning control\n",
        "import warnings\n",
        "warnings.filterwarnings('ignore')"
      ]
    },
    {
      "cell_type": "code",
      "source": [
        "from crewai import Agent, Task, Crew"
      ],
      "metadata": {
        "id": "dtlr9NNkakZC"
      },
      "execution_count": 4,
      "outputs": []
    },
    {
      "cell_type": "code",
      "source": [
        "import os\n",
        "from google.colab import userdata # For API Secret\n",
        "# openai_api_key = get_openai_api_key()\n",
        "# os.environ[\"OPENAI_MODEL_NAME\"] = 'gpt-3.5-turbo'\n",
        "\n",
        "os.environ[\"GEMINI_MODEL_NAME\"] = 'gemini-2.5-flash'\n",
        "os.environ[\"SERPER_API_KEY\"] = userdata.get('SERPER_API_KEY')"
      ],
      "metadata": {
        "id": "tGv23k44armk"
      },
      "execution_count": 24,
      "outputs": []
    },
    {
      "cell_type": "code",
      "source": [
        "# Agents\n",
        "from langchain_community.llms import HuggingFaceHub # Import necessary class if using Hugging Face models\n",
        "from langchain_google_genai import ChatGoogleGenerativeAI # Import the correct class for Gemini\n",
        "\n",
        "# Initialize the Gemini LLM\n",
        "os.environ['GOOGLE_API_KEY']=userdata.get('Gemini_ai_api')\n",
        "gemini_llm = ChatGoogleGenerativeAI(model=\"gemini-2.5-flash\")\n",
        "\n",
        "sales_rep_agent = Agent(\n",
        "    role=\"Sales Representative\",\n",
        "    goal=\"Identify high-value leads that match \"\n",
        "         \"our ideal customer profile\",\n",
        "    backstory=(\n",
        "        \"As a part of the dynamic sales team at Amazon, \"\n",
        "        \"your mission is to scour \"\n",
        "        \"the digital landscape for potential leads. \"\n",
        "        \"Armed with cutting-edge tools \"\n",
        "        \"and a strategic mindset, you analyze data, \"\n",
        "        \"trends, and interactions to \"\n",
        "        \"unearth opportunities that others might overlook. \"\n",
        "        \"Your work is crucial in paving the way \"\n",
        "        \"for meaningful engagements and driving the company's growth.\"\n",
        "    ),\n",
        "    allow_delegation=False,\n",
        "    verbose=True,\n",
        "    llm = gemini_llm\n",
        ")\n",
        "\n",
        "lead_sales_rep_agent = Agent(\n",
        "    role=\"Lead Sales Representative\",\n",
        "    goal=\"Nurture leads with personalized, compelling communications\",\n",
        "    backstory=(\n",
        "        \"Within the vibrant ecosystem of Amazon's sales department, \"\n",
        "        \"you stand out as the bridge between potential clients \"\n",
        "        \"and the solutions they need.\"\n",
        "        \"By creating engaging, personalized messages, \"\n",
        "        \"you not only inform leads about our offerings \"\n",
        "        \"but also make them feel seen and heard.\"\n",
        "        \"Your role is pivotal in converting interest \"\n",
        "        \"into action, guiding leads through the journey \"\n",
        "        \"from curiosity to commitment.\"\n",
        "    ),\n",
        "    allow_delegation=False,\n",
        "    verbose=True,\n",
        "    llm = gemini_llm\n",
        ")"
      ],
      "metadata": {
        "id": "SKrAGbj3dCL4"
      },
      "execution_count": 6,
      "outputs": []
    },
    {
      "cell_type": "code",
      "source": [
        "from crewai_tools import DirectoryReadTool, \\\n",
        "                         FileReadTool, \\\n",
        "                         SerperDevTool"
      ],
      "metadata": {
        "id": "eFUgnZRfept-"
      },
      "execution_count": 7,
      "outputs": []
    },
    {
      "cell_type": "code",
      "source": [
        "# Instantiate tools\n",
        "directory_read_tool = DirectoryReadTool(directory='./instructions')\n",
        "file_read_tool = FileReadTool()\n",
        "search_tool = SerperDevTool()"
      ],
      "metadata": {
        "id": "4w8HycIHgqqt"
      },
      "execution_count": 8,
      "outputs": []
    },
    {
      "cell_type": "code",
      "source": [
        "# print(search_tool.run(search_query=\"Amazon.com\"))"
      ],
      "metadata": {
        "collapsed": true,
        "id": "mgqMYUFUoLlk"
      },
      "execution_count": null,
      "outputs": []
    },
    {
      "cell_type": "markdown",
      "source": [
        "#  Building Custom Crew.ai tool"
      ],
      "metadata": {
        "id": "dDSoR1bzh3GV"
      }
    },
    {
      "cell_type": "code",
      "source": [
        "from crewai_tools import BaseTool"
      ],
      "metadata": {
        "id": "pFALQFOihdlQ"
      },
      "execution_count": 11,
      "outputs": []
    },
    {
      "cell_type": "code",
      "source": [
        "class SentimentAnalysisTool(BaseTool) :\n",
        "  name: str = \"Sentiment Analysis Tool\"\n",
        "  description: str = (\"Analyzes the sentiment of text \"\n",
        "  \"to ensure positive and engaging communication\")\n",
        "\n",
        "  def _run(self, text: str) -> str:\n",
        "    # Custom tool code\n",
        "    return \"positive\""
      ],
      "metadata": {
        "id": "1LUzg8Onh9DR"
      },
      "execution_count": 26,
      "outputs": []
    },
    {
      "cell_type": "code",
      "source": [
        "sentiment_analysis_tool = SentimentAnalysisTool()"
      ],
      "metadata": {
        "id": "HZCvV7mUiI7a"
      },
      "execution_count": 27,
      "outputs": []
    },
    {
      "cell_type": "markdown",
      "source": [
        "# Tasks definition"
      ],
      "metadata": {
        "id": "P1tJ6oDri2L3"
      }
    },
    {
      "cell_type": "code",
      "source": [
        "lead_profiling_task = Task(\n",
        "    description=(\n",
        "        \"Conduct an in-depth analysis of {lead_name}, \"\n",
        "        \"a company in the {industry} sector \"\n",
        "        \"that recently showed interest in our solutions. \"\n",
        "        \"Utilize all available data sources \"\n",
        "        \"to compile a detailed profile, \"\n",
        "        \"focusing on key decision-makers, recent business \"\n",
        "        \"developments, and potential needs \"\n",
        "        \"that align with our offerings. \"\n",
        "        \"This task is crucial for tailoring \"\n",
        "        \"our engagement strategy effectively.\\n\"\n",
        "        \"Don't make assumptions and \"\n",
        "        \"only use information you absolutely sure about.\"\n",
        "    ),\n",
        "    expected_output=(\n",
        "        \"A comprehensive report on {lead_name}, \"\n",
        "        \"including company background, \"\n",
        "        \"key personnel, recent milestones, and identified needs. \"\n",
        "        \"Highlight potential areas where \"\n",
        "        \"our solutions can provide value, \"\n",
        "        \"and suggest personalized engagement strategies.\"\n",
        "    ),\n",
        "    tools=[directory_read_tool, file_read_tool, search_tool],\n",
        "    agent=sales_rep_agent,\n",
        ")\n",
        "\n",
        "personalized_outreach_task = Task(\n",
        "    description=(\n",
        "        \"Using the insights gathered from \"\n",
        "        \"the lead profiling report on {lead_name}, \"\n",
        "        \"craft a personalized outreach campaign \"\n",
        "        \"aimed at {key_decision_maker}, \"\n",
        "        \"the {position} of {lead_name}. \"\n",
        "        \"The campaign should address their recent {milestone} \"\n",
        "        \"and how our solutions can support their goals. \"\n",
        "        \"Your communication must resonate \"\n",
        "        \"with {lead_name}'s company culture and values, \"\n",
        "        \"demonstrating a deep understanding of \"\n",
        "        \"their business and needs.\\n\"\n",
        "        \"Don't make assumptions and only \"\n",
        "        \"use information you absolutely sure about.\"\n",
        "    ),\n",
        "    expected_output=(\n",
        "        \"A series of personalized email drafts \"\n",
        "        \"tailored to {lead_name}, \"\n",
        "        \"specifically targeting {key_decision_maker}.\"\n",
        "        \"Each draft should include \"\n",
        "        \"a compelling narrative that connects our solutions \"\n",
        "        \"with their recent achievements and future goals. \"\n",
        "        \"Ensure the tone is engaging, professional, \"\n",
        "        \"and aligned with {lead_name}'s corporate identity.\"\n",
        "    ),\n",
        "    tools=[sentiment_analysis_tool, search_tool],\n",
        "    agent=lead_sales_rep_agent,\n",
        ")"
      ],
      "metadata": {
        "id": "zp3puqmDisxR"
      },
      "execution_count": 28,
      "outputs": []
    },
    {
      "cell_type": "code",
      "source": [
        "crew = Crew(\n",
        "    agents=[sales_rep_agent,\n",
        "            lead_sales_rep_agent],\n",
        "\n",
        "    tasks=[lead_profiling_task,\n",
        "           personalized_outreach_task],\n",
        "\n",
        "    verbose=2,\n",
        "\t# memory=True\n",
        ")"
      ],
      "metadata": {
        "id": "6O-RhDU_lGPX"
      },
      "execution_count": 29,
      "outputs": []
    },
    {
      "cell_type": "code",
      "source": [
        "inputs = {\n",
        "    \"lead_name\": \"Amazon\",\n",
        "    \"industry\": \"Online Shopping Platform\",\n",
        "    \"key_decision_maker\": \"Jeff Bezos\",\n",
        "    \"position\": \"CEO\",\n",
        "    \"milestone\": \"Product Launch (Amazon Alexa)\"\n",
        "}\n",
        "\n",
        "result = crew.kickoff(inputs=inputs)"
      ],
      "metadata": {
        "collapsed": true,
        "id": "5Fo_eqmhlIxk"
      },
      "execution_count": null,
      "outputs": []
    },
    {
      "cell_type": "code",
      "source": [
        "from IPython.display import Markdown\n",
        "Markdown(result)"
      ],
      "metadata": {
        "colab": {
          "base_uri": "https://localhost:8080/",
          "height": 1000
        },
        "collapsed": true,
        "id": "rZ5qFWDwlxwP",
        "outputId": "0cc8c15f-0bc2-47f5-d6fe-363936689b28"
      },
      "execution_count": 32,
      "outputs": [
        {
          "output_type": "execute_result",
          "data": {
            "text/plain": [
              "<IPython.core.display.Markdown object>"
            ],
            "text/markdown": "Here is a series of personalized email drafts for an outreach campaign aimed at Jeff Bezos, Executive Chair of Amazon:\n\n---\n\n**Email 1: Initial Outreach**\n\n**Subject: Elevating Amazon's AI Vision: A Strategic Partnership Opportunity**\n\nDear Mr. Bezos,\n\nAs the visionary founder and Executive Chair of Amazon, your relentless pursuit of innovation and customer obsession continues to redefine industries. We've closely followed Amazon's incredible journey, particularly your pioneering work in artificial intelligence, exemplified by the transformative impact of products like Amazon Alexa.\n\nAt [Your Company Name], we specialize in advanced AI/ML solutions designed to amplify the capabilities of market leaders. We believe our expertise in optimizing data insights from vast user interactions and streamlining complex AI model deployment could offer significant strategic value as Amazon continues to push the boundaries of AI-driven customer experiences and operational excellence.\n\nWe are particularly keen to explore how our solutions could support Amazon's ongoing advancements in AI, ensuring even greater personalization, efficiency, and scale across your diverse ecosystem.\n\nWould you be open to a brief, strategic conversation with my team? We'd be honored to share how our approach aligns with Amazon's long-term vision for innovation and customer-centricity.\n\nWarm regards,\n\n[Your Name]\nLead Sales Representative\n[Your Company Name]\n\n---\n\n**Email 2: Follow-up / Deeper Dive**\n\n**Subject: Following Up: Further Enhancing Amazon's AI Ecosystem**\n\nDear Mr. Bezos,\n\nHope this email finds you well.\n\nFollowing up on my previous message, I wanted to reiterate our profound respect for Amazon's pioneering spirit, especially in leveraging AI to create unparalleled customer experiences. The continuous evolution of intelligent systems like Alexa truly embodies Amazon's commitment to long-term thinking and innovation.\n\nOur advanced AI/ML solutions are specifically designed to complement and enhance large-scale AI initiatives, focusing on areas such as predictive analytics for user behavior, optimizing data processing from device interactions, and automating complex AI workflows. We envision our capabilities as a strategic asset for Amazon, further refining the personalization and efficiency that define your customer-centric approach.\n\nImagine even more seamless integration, richer insights from user data, and accelerated development cycles for your next generation of AI-driven services. Our goal is to empower Amazon to achieve even greater breakthroughs.\n\nWould a brief 15-minute call with my team be a convenient way to explore these possibilities? We are confident we can demonstrate tangible value aligned with Amazon's strategic priorities.\n\nWarm regards,\n\n[Your Name]\nLead Sales Representative\n[Your Company Name]\n\n---\n\n**Email 3: Value Reinforcement / Call to Action**\n\n**Subject: Accelerating Amazon's AI Advantage: A Proven Path to Enhanced Value**\n\nDear Mr. Bezos,\n\nI hope this message finds you well and your focus on Amazon's future innovations remains as sharp as ever.\n\nIn our previous communications, we've highlighted how [Your Company Name]'s advanced AI/ML solutions are designed to support and amplify the strategic objectives of global leaders like Amazon. Given your profound impact on shaping Amazon's customer-centric culture and long-term vision, we believe our expertise can significantly contribute to your ongoing advancements in AI, including the continuous evolution of platforms like Alexa.\n\nOur solutions are built for scale and efficiency, offering tangible benefits such as:\n*   **Enhanced Customer Personalization:** Driving deeper engagement through more intelligent and proactive user experiences.\n*   **Optimized Data Insights:** Transforming vast datasets from devices and interactions into actionable intelligence.\n*   **Streamlined AI Operations:** Automating complex processes to accelerate innovation and reduce operational costs.\n\nThese capabilities directly align with Amazon's commitment to operational excellence, customer obsession, and sustainable growth. We have a proven track record of delivering measurable ROI for enterprises operating at Amazon's scale.\n\nWe understand your time is invaluable. Would it be possible to schedule a concise 20-minute discussion with a member of your leadership team who oversees AI strategy or customer experience initiatives? We are prepared to present a tailored overview demonstrating how our partnership can unlock new levels of value for Amazon.\n\nThank you for considering this opportunity.\n\nSincerely,\n\n[Your Name]\nLead Sales Representative\n[Your Company Name]"
          },
          "metadata": {},
          "execution_count": 32
        }
      ]
    },
    {
      "cell_type": "code",
      "source": [],
      "metadata": {
        "id": "pcWVlZDU6N-b"
      },
      "execution_count": null,
      "outputs": []
    }
  ]
}